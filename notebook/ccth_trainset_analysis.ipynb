{
 "cells": [
  {
   "cell_type": "code",
   "execution_count": 1,
   "metadata": {},
   "outputs": [],
   "source": [
    "import os\n",
    "from pathlib import Path\n",
    "\n",
    "import pandas as pd\n",
    "import numpy as np\n",
    "import matplotlib.pyplot as plt\n",
    "from scipy.stats import entropy"
   ]
  },
  {
   "cell_type": "code",
   "execution_count": 2,
   "metadata": {},
   "outputs": [],
   "source": [
    "meta = pd.read_csv(\"/data2/datasets/clobotics/ccth/indices/ccth_sku_metadata_0120.csv\")\n",
    "train = pd.concat([pd.read_csv(p) for p in Path(\"/data2/datasets/clobotics/ccth/labels/train/20200129\").glob(\"*.csv\")])"
   ]
  },
  {
   "cell_type": "code",
   "execution_count": 3,
   "metadata": {},
   "outputs": [
    {
     "data": {
      "text/plain": [
       "(1611967, 12)"
      ]
     },
     "execution_count": 3,
     "metadata": {},
     "output_type": "execute_result"
    }
   ],
   "source": [
    "train.shape"
   ]
  },
  {
   "cell_type": "code",
   "execution_count": 4,
   "metadata": {},
   "outputs": [
    {
     "data": {
      "text/plain": [
       "1          187446\n",
       "1037728     81842\n",
       "1037709     67799\n",
       "1037742     62589\n",
       "1037769     50387\n",
       "            ...  \n",
       "1079369         1\n",
       "1079258         1\n",
       "1037612         1\n",
       "1079339         1\n",
       "1079436         1\n",
       "Name: ProductId, Length: 634, dtype: int64"
      ]
     },
     "execution_count": 4,
     "metadata": {},
     "output_type": "execute_result"
    }
   ],
   "source": [
    "train.ProductId.value_counts()"
   ]
  },
  {
   "cell_type": "markdown",
   "metadata": {},
   "source": [
    "### Check Meta"
   ]
  },
  {
   "cell_type": "code",
   "execution_count": 5,
   "metadata": {},
   "outputs": [
    {
     "data": {
      "text/html": [
       "<div>\n",
       "<style scoped>\n",
       "    .dataframe tbody tr th:only-of-type {\n",
       "        vertical-align: middle;\n",
       "    }\n",
       "\n",
       "    .dataframe tbody tr th {\n",
       "        vertical-align: top;\n",
       "    }\n",
       "\n",
       "    .dataframe thead th {\n",
       "        text-align: right;\n",
       "    }\n",
       "</style>\n",
       "<table border=\"1\" class=\"dataframe\">\n",
       "  <thead>\n",
       "    <tr style=\"text-align: right;\">\n",
       "      <th></th>\n",
       "      <th>ProductId</th>\n",
       "      <th>SKUType</th>\n",
       "      <th>Package</th>\n",
       "      <th>UnitCount</th>\n",
       "      <th>Volume</th>\n",
       "      <th>VolumeType</th>\n",
       "      <th>Industry</th>\n",
       "      <th>Juice</th>\n",
       "      <th>CategoryId</th>\n",
       "      <th>Brand</th>\n",
       "      <th>SubBrand</th>\n",
       "      <th>SubBrandId</th>\n",
       "      <th>Series</th>\n",
       "      <th>Flavor</th>\n",
       "      <th>Market</th>\n",
       "      <th>SKUName</th>\n",
       "    </tr>\n",
       "  </thead>\n",
       "  <tbody>\n",
       "    <tr>\n",
       "      <th>852</th>\n",
       "      <td>1082140</td>\n",
       "      <td>NaN</td>\n",
       "      <td>NaN</td>\n",
       "      <td>NaN</td>\n",
       "      <td>NaN</td>\n",
       "      <td>NaN</td>\n",
       "      <td>Drink</td>\n",
       "      <td>Juice</td>\n",
       "      <td>1037852</td>\n",
       "      <td>NaN</td>\n",
       "      <td>Jele Light</td>\n",
       "      <td>1065198.0</td>\n",
       "      <td>NaN</td>\n",
       "      <td>NaN</td>\n",
       "      <td>Thailand</td>\n",
       "      <td>Jele Light Juice-Other</td>\n",
       "    </tr>\n",
       "  </tbody>\n",
       "</table>\n",
       "</div>"
      ],
      "text/plain": [
       "     ProductId SKUType Package  UnitCount  Volume VolumeType Industry  Juice  \\\n",
       "852    1082140     NaN     NaN        NaN     NaN        NaN    Drink  Juice   \n",
       "\n",
       "     CategoryId Brand    SubBrand  SubBrandId Series Flavor    Market  \\\n",
       "852     1037852   NaN  Jele Light   1065198.0    NaN    NaN  Thailand   \n",
       "\n",
       "                    SKUName  \n",
       "852  Jele Light Juice-Other  "
      ]
     },
     "execution_count": 5,
     "metadata": {},
     "output_type": "execute_result"
    }
   ],
   "source": [
    "meta[meta.ProductId == 1082140]"
   ]
  },
  {
   "cell_type": "code",
   "execution_count": 9,
   "metadata": {},
   "outputs": [
    {
     "data": {
      "text/html": [
       "<div>\n",
       "<style scoped>\n",
       "    .dataframe tbody tr th:only-of-type {\n",
       "        vertical-align: middle;\n",
       "    }\n",
       "\n",
       "    .dataframe tbody tr th {\n",
       "        vertical-align: top;\n",
       "    }\n",
       "\n",
       "    .dataframe thead th {\n",
       "        text-align: right;\n",
       "    }\n",
       "</style>\n",
       "<table border=\"1\" class=\"dataframe\">\n",
       "  <thead>\n",
       "    <tr style=\"text-align: right;\">\n",
       "      <th></th>\n",
       "      <th>ProductId</th>\n",
       "      <th>SKUType</th>\n",
       "      <th>Package</th>\n",
       "      <th>UnitCount</th>\n",
       "      <th>Volume</th>\n",
       "      <th>VolumeType</th>\n",
       "      <th>Industry</th>\n",
       "      <th>Juice</th>\n",
       "      <th>CategoryId</th>\n",
       "      <th>Brand</th>\n",
       "      <th>SubBrand</th>\n",
       "      <th>SubBrandId</th>\n",
       "      <th>Series</th>\n",
       "      <th>Flavor</th>\n",
       "      <th>Market</th>\n",
       "      <th>SKUName</th>\n",
       "    </tr>\n",
       "  </thead>\n",
       "  <tbody>\n",
       "    <tr>\n",
       "      <th>855</th>\n",
       "      <td>1082143</td>\n",
       "      <td>NaN</td>\n",
       "      <td>NaN</td>\n",
       "      <td>NaN</td>\n",
       "      <td>NaN</td>\n",
       "      <td>NaN</td>\n",
       "      <td>Drink</td>\n",
       "      <td>Juice</td>\n",
       "      <td>1037852</td>\n",
       "      <td>NaN</td>\n",
       "      <td>Jub Jub</td>\n",
       "      <td>1065201.0</td>\n",
       "      <td>NaN</td>\n",
       "      <td>NaN</td>\n",
       "      <td>Thailand</td>\n",
       "      <td>Jub Jub Juice-Other</td>\n",
       "    </tr>\n",
       "  </tbody>\n",
       "</table>\n",
       "</div>"
      ],
      "text/plain": [
       "     ProductId SKUType Package  UnitCount  Volume VolumeType Industry  Juice  \\\n",
       "855    1082143     NaN     NaN        NaN     NaN        NaN    Drink  Juice   \n",
       "\n",
       "     CategoryId Brand SubBrand  SubBrandId Series Flavor    Market  \\\n",
       "855     1037852   NaN  Jub Jub   1065201.0    NaN    NaN  Thailand   \n",
       "\n",
       "                 SKUName  \n",
       "855  Jub Jub Juice-Other  "
      ]
     },
     "execution_count": 9,
     "metadata": {},
     "output_type": "execute_result"
    }
   ],
   "source": [
    "meta[meta.ProductId == 1082143]"
   ]
  },
  {
   "cell_type": "markdown",
   "metadata": {},
   "source": [
    "### Check train data"
   ]
  },
  {
   "cell_type": "code",
   "execution_count": 10,
   "metadata": {},
   "outputs": [
    {
     "data": {
      "text/html": [
       "<div>\n",
       "<style scoped>\n",
       "    .dataframe tbody tr th:only-of-type {\n",
       "        vertical-align: middle;\n",
       "    }\n",
       "\n",
       "    .dataframe tbody tr th {\n",
       "        vertical-align: top;\n",
       "    }\n",
       "\n",
       "    .dataframe thead th {\n",
       "        text-align: right;\n",
       "    }\n",
       "</style>\n",
       "<table border=\"1\" class=\"dataframe\">\n",
       "  <thead>\n",
       "    <tr style=\"text-align: right;\">\n",
       "      <th></th>\n",
       "      <th>ImgUrl</th>\n",
       "      <th>ProductId</th>\n",
       "      <th>xmin</th>\n",
       "      <th>ymin</th>\n",
       "      <th>xmax</th>\n",
       "      <th>ymax</th>\n",
       "      <th>ImageQuality</th>\n",
       "      <th>SceneType</th>\n",
       "      <th>Rotation</th>\n",
       "      <th>TaskItemId</th>\n",
       "      <th>TaskId</th>\n",
       "      <th>RequestId</th>\n",
       "    </tr>\n",
       "  </thead>\n",
       "  <tbody>\n",
       "  </tbody>\n",
       "</table>\n",
       "</div>"
      ],
      "text/plain": [
       "Empty DataFrame\n",
       "Columns: [ImgUrl, ProductId, xmin, ymin, xmax, ymax, ImageQuality, SceneType, Rotation, TaskItemId, TaskId, RequestId]\n",
       "Index: []"
      ]
     },
     "execution_count": 10,
     "metadata": {},
     "output_type": "execute_result"
    }
   ],
   "source": [
    "train[train.ProductId == 1082144]"
   ]
  },
  {
   "cell_type": "code",
   "execution_count": 11,
   "metadata": {},
   "outputs": [
    {
     "data": {
      "text/html": [
       "<div>\n",
       "<style scoped>\n",
       "    .dataframe tbody tr th:only-of-type {\n",
       "        vertical-align: middle;\n",
       "    }\n",
       "\n",
       "    .dataframe tbody tr th {\n",
       "        vertical-align: top;\n",
       "    }\n",
       "\n",
       "    .dataframe thead th {\n",
       "        text-align: right;\n",
       "    }\n",
       "</style>\n",
       "<table border=\"1\" class=\"dataframe\">\n",
       "  <thead>\n",
       "    <tr style=\"text-align: right;\">\n",
       "      <th></th>\n",
       "      <th>ImgUrl</th>\n",
       "      <th>ProductId</th>\n",
       "      <th>xmin</th>\n",
       "      <th>ymin</th>\n",
       "      <th>xmax</th>\n",
       "      <th>ymax</th>\n",
       "      <th>ImageQuality</th>\n",
       "      <th>SceneType</th>\n",
       "      <th>Rotation</th>\n",
       "      <th>TaskItemId</th>\n",
       "      <th>TaskId</th>\n",
       "      <th>RequestId</th>\n",
       "    </tr>\n",
       "  </thead>\n",
       "  <tbody>\n",
       "    <tr>\n",
       "      <th>482</th>\n",
       "      <td>https://fileman-na.clobotics.com/api/file/0759...</td>\n",
       "      <td>1037850</td>\n",
       "      <td>0.827719</td>\n",
       "      <td>0.067999</td>\n",
       "      <td>0.928515</td>\n",
       "      <td>0.228892</td>\n",
       "      <td>[]</td>\n",
       "      <td>[]</td>\n",
       "      <td>0.0</td>\n",
       "      <td>1.0</td>\n",
       "      <td>95918.0</td>\n",
       "      <td>1.0</td>\n",
       "    </tr>\n",
       "    <tr>\n",
       "      <th>483</th>\n",
       "      <td>https://fileman-na.clobotics.com/api/file/bc26...</td>\n",
       "      <td>1037850</td>\n",
       "      <td>0.665159</td>\n",
       "      <td>0.471645</td>\n",
       "      <td>0.729852</td>\n",
       "      <td>0.618170</td>\n",
       "      <td>[]</td>\n",
       "      <td>[]</td>\n",
       "      <td>0.0</td>\n",
       "      <td>1.0</td>\n",
       "      <td>95918.0</td>\n",
       "      <td>1.0</td>\n",
       "    </tr>\n",
       "    <tr>\n",
       "      <th>484</th>\n",
       "      <td>https://fileman-na.clobotics.com/api/file/e8ff...</td>\n",
       "      <td>1037850</td>\n",
       "      <td>0.666424</td>\n",
       "      <td>0.396536</td>\n",
       "      <td>0.733207</td>\n",
       "      <td>0.543395</td>\n",
       "      <td>[]</td>\n",
       "      <td>[]</td>\n",
       "      <td>0.0</td>\n",
       "      <td>1.0</td>\n",
       "      <td>95918.0</td>\n",
       "      <td>1.0</td>\n",
       "    </tr>\n",
       "    <tr>\n",
       "      <th>485</th>\n",
       "      <td>https://fileman-na.clobotics.com/api/file/8aa1...</td>\n",
       "      <td>1037850</td>\n",
       "      <td>0.834002</td>\n",
       "      <td>0.295201</td>\n",
       "      <td>0.905318</td>\n",
       "      <td>0.417726</td>\n",
       "      <td>[]</td>\n",
       "      <td>[]</td>\n",
       "      <td>0.0</td>\n",
       "      <td>1.0</td>\n",
       "      <td>95918.0</td>\n",
       "      <td>1.0</td>\n",
       "    </tr>\n",
       "    <tr>\n",
       "      <th>486</th>\n",
       "      <td>https://fileman-na.clobotics.com/api/file/5133...</td>\n",
       "      <td>1037850</td>\n",
       "      <td>0.356364</td>\n",
       "      <td>0.490907</td>\n",
       "      <td>0.403178</td>\n",
       "      <td>0.584707</td>\n",
       "      <td>[]</td>\n",
       "      <td>[]</td>\n",
       "      <td>0.0</td>\n",
       "      <td>1.0</td>\n",
       "      <td>95918.0</td>\n",
       "      <td>1.0</td>\n",
       "    </tr>\n",
       "    <tr>\n",
       "      <th>...</th>\n",
       "      <td>...</td>\n",
       "      <td>...</td>\n",
       "      <td>...</td>\n",
       "      <td>...</td>\n",
       "      <td>...</td>\n",
       "      <td>...</td>\n",
       "      <td>...</td>\n",
       "      <td>...</td>\n",
       "      <td>...</td>\n",
       "      <td>...</td>\n",
       "      <td>...</td>\n",
       "      <td>...</td>\n",
       "    </tr>\n",
       "    <tr>\n",
       "      <th>3048</th>\n",
       "      <td>https://fileman-na.clobotics.com/api/file/dbc2...</td>\n",
       "      <td>1037851</td>\n",
       "      <td>0.714010</td>\n",
       "      <td>0.052305</td>\n",
       "      <td>0.954706</td>\n",
       "      <td>0.463363</td>\n",
       "      <td>[]</td>\n",
       "      <td>[]</td>\n",
       "      <td>0.0</td>\n",
       "      <td>1.0</td>\n",
       "      <td>95590.0</td>\n",
       "      <td>1.0</td>\n",
       "    </tr>\n",
       "    <tr>\n",
       "      <th>3049</th>\n",
       "      <td>https://fileman-na.clobotics.com/api/file/f2bb...</td>\n",
       "      <td>1037851</td>\n",
       "      <td>0.777484</td>\n",
       "      <td>0.581401</td>\n",
       "      <td>0.899307</td>\n",
       "      <td>0.806822</td>\n",
       "      <td>[]</td>\n",
       "      <td>[]</td>\n",
       "      <td>0.0</td>\n",
       "      <td>1.0</td>\n",
       "      <td>95590.0</td>\n",
       "      <td>1.0</td>\n",
       "    </tr>\n",
       "    <tr>\n",
       "      <th>164</th>\n",
       "      <td>https://fileman-na.clobotics.com/api/file/d6f3...</td>\n",
       "      <td>1037851</td>\n",
       "      <td>0.780077</td>\n",
       "      <td>0.427865</td>\n",
       "      <td>0.857726</td>\n",
       "      <td>0.549411</td>\n",
       "      <td>[]</td>\n",
       "      <td>[]</td>\n",
       "      <td>0.0</td>\n",
       "      <td>1.0</td>\n",
       "      <td>95920.0</td>\n",
       "      <td>1.0</td>\n",
       "    </tr>\n",
       "    <tr>\n",
       "      <th>165</th>\n",
       "      <td>https://fileman-na.clobotics.com/api/file/0963...</td>\n",
       "      <td>1037851</td>\n",
       "      <td>0.778473</td>\n",
       "      <td>0.657958</td>\n",
       "      <td>0.876541</td>\n",
       "      <td>0.871245</td>\n",
       "      <td>[]</td>\n",
       "      <td>[]</td>\n",
       "      <td>0.0</td>\n",
       "      <td>1.0</td>\n",
       "      <td>95920.0</td>\n",
       "      <td>1.0</td>\n",
       "    </tr>\n",
       "    <tr>\n",
       "      <th>166</th>\n",
       "      <td>https://fileman-na.clobotics.com/api/file/6065...</td>\n",
       "      <td>1037851</td>\n",
       "      <td>0.733714</td>\n",
       "      <td>0.658739</td>\n",
       "      <td>0.832735</td>\n",
       "      <td>0.824745</td>\n",
       "      <td>[]</td>\n",
       "      <td>[]</td>\n",
       "      <td>0.0</td>\n",
       "      <td>1.0</td>\n",
       "      <td>95920.0</td>\n",
       "      <td>1.0</td>\n",
       "    </tr>\n",
       "  </tbody>\n",
       "</table>\n",
       "<p>172 rows × 12 columns</p>\n",
       "</div>"
      ],
      "text/plain": [
       "                                                 ImgUrl  ProductId      xmin  \\\n",
       "482   https://fileman-na.clobotics.com/api/file/0759...    1037850  0.827719   \n",
       "483   https://fileman-na.clobotics.com/api/file/bc26...    1037850  0.665159   \n",
       "484   https://fileman-na.clobotics.com/api/file/e8ff...    1037850  0.666424   \n",
       "485   https://fileman-na.clobotics.com/api/file/8aa1...    1037850  0.834002   \n",
       "486   https://fileman-na.clobotics.com/api/file/5133...    1037850  0.356364   \n",
       "...                                                 ...        ...       ...   \n",
       "3048  https://fileman-na.clobotics.com/api/file/dbc2...    1037851  0.714010   \n",
       "3049  https://fileman-na.clobotics.com/api/file/f2bb...    1037851  0.777484   \n",
       "164   https://fileman-na.clobotics.com/api/file/d6f3...    1037851  0.780077   \n",
       "165   https://fileman-na.clobotics.com/api/file/0963...    1037851  0.778473   \n",
       "166   https://fileman-na.clobotics.com/api/file/6065...    1037851  0.733714   \n",
       "\n",
       "          ymin      xmax      ymax ImageQuality SceneType  Rotation  \\\n",
       "482   0.067999  0.928515  0.228892           []        []       0.0   \n",
       "483   0.471645  0.729852  0.618170           []        []       0.0   \n",
       "484   0.396536  0.733207  0.543395           []        []       0.0   \n",
       "485   0.295201  0.905318  0.417726           []        []       0.0   \n",
       "486   0.490907  0.403178  0.584707           []        []       0.0   \n",
       "...        ...       ...       ...          ...       ...       ...   \n",
       "3048  0.052305  0.954706  0.463363           []        []       0.0   \n",
       "3049  0.581401  0.899307  0.806822           []        []       0.0   \n",
       "164   0.427865  0.857726  0.549411           []        []       0.0   \n",
       "165   0.657958  0.876541  0.871245           []        []       0.0   \n",
       "166   0.658739  0.832735  0.824745           []        []       0.0   \n",
       "\n",
       "      TaskItemId   TaskId  RequestId  \n",
       "482          1.0  95918.0        1.0  \n",
       "483          1.0  95918.0        1.0  \n",
       "484          1.0  95918.0        1.0  \n",
       "485          1.0  95918.0        1.0  \n",
       "486          1.0  95918.0        1.0  \n",
       "...          ...      ...        ...  \n",
       "3048         1.0  95590.0        1.0  \n",
       "3049         1.0  95590.0        1.0  \n",
       "164          1.0  95920.0        1.0  \n",
       "165          1.0  95920.0        1.0  \n",
       "166          1.0  95920.0        1.0  \n",
       "\n",
       "[172 rows x 12 columns]"
      ]
     },
     "execution_count": 11,
     "metadata": {},
     "output_type": "execute_result"
    }
   ],
   "source": [
    "train[train.ProductId.isin([1037848,\n",
    " 1037849,\n",
    " 1037850,\n",
    " 1037851,\n",
    " 1037852,\n",
    " 1037853,\n",
    " 1051447,\n",
    " 1051448,\n",
    " 1051868,\n",
    " 1051869])]"
   ]
  },
  {
   "cell_type": "code",
   "execution_count": 12,
   "metadata": {},
   "outputs": [
    {
     "data": {
      "text/plain": [
       "{1, 1079969, 1080433, 1080718, 1080801}"
      ]
     },
     "execution_count": 12,
     "metadata": {},
     "output_type": "execute_result"
    }
   ],
   "source": [
    "set(train.ProductId.unique().tolist()) - set(meta.ProductId.unique().tolist())"
   ]
  },
  {
   "cell_type": "markdown",
   "metadata": {},
   "source": [
    "### check how many samples are from pure SKU class, how many are subbrand-other or category other"
   ]
  },
  {
   "cell_type": "code",
   "execution_count": 24,
   "metadata": {},
   "outputs": [
    {
     "data": {
      "text/plain": [
       "324"
      ]
     },
     "execution_count": 24,
     "metadata": {},
     "output_type": "execute_result"
    }
   ],
   "source": [
    "category_ids = meta[meta.ProductId == meta.CategoryId].ProductId.tolist()\n",
    "subbrand_other_ids = meta[meta.ProductId == meta.SubBrandId].ProductId.tolist()\n",
    "len(category_ids + subbrand_other_ids)"
   ]
  },
  {
   "cell_type": "code",
   "execution_count": 22,
   "metadata": {},
   "outputs": [
    {
     "name": "stdout",
     "output_type": "stream",
     "text": [
      "subbrand-other or category other\n",
      "----------------------------------------\n",
      "# samples: 258574 \n",
      "# classes: 196 \n"
     ]
    }
   ],
   "source": [
    "print(\"subbrand-other or category other\\n\" + \"-\" * 40)\n",
    "print(f\"# samples: {len(train[train.ProductId.isin(category_ids + subbrand_other_ids + [1])])} \")\n",
    "print(f\"# classes: {len(train[train.ProductId.isin(category_ids + subbrand_other_ids + [1])].ProductId.unique())} \")"
   ]
  },
  {
   "cell_type": "code",
   "execution_count": 23,
   "metadata": {},
   "outputs": [
    {
     "name": "stdout",
     "output_type": "stream",
     "text": [
      "pure sku class\n",
      "----------------------------------------\n",
      "# samples: 1353393 \n",
      "# classes: 438 \n",
      "\n",
      "top large classes:\n",
      "1037728    81842\n",
      "1037709    67799\n",
      "1037742    62589\n",
      "1037769    50387\n",
      "1037800    41068\n",
      "           ...  \n",
      "1037652        1\n",
      "1037612        1\n",
      "1037791        1\n",
      "1047785        1\n",
      "1047805        1\n",
      "Name: ProductId, Length: 438, dtype: int64\n"
     ]
    }
   ],
   "source": [
    "print(\"pure sku class\\n\" + \"-\" * 40)\n",
    "print(f\"# samples: {len(train[~train.ProductId.isin(category_ids + subbrand_other_ids + [1])])} \")\n",
    "print(f\"# classes: {len(train[~train.ProductId.isin(category_ids + subbrand_other_ids + [1])].ProductId.unique())} \")\n",
    "print(f\"\\ntop large classes:\\n{train[~train.ProductId.isin(category_ids + subbrand_other_ids + [1])].ProductId.value_counts()}\")"
   ]
  },
  {
   "cell_type": "code",
   "execution_count": null,
   "metadata": {},
   "outputs": [],
   "source": []
  }
 ],
 "metadata": {
  "kernelspec": {
   "display_name": "Python 3",
   "language": "python",
   "name": "python3"
  },
  "language_info": {
   "codemirror_mode": {
    "name": "ipython",
    "version": 3
   },
   "file_extension": ".py",
   "mimetype": "text/x-python",
   "name": "python",
   "nbconvert_exporter": "python",
   "pygments_lexer": "ipython3",
   "version": "3.7.6"
  }
 },
 "nbformat": 4,
 "nbformat_minor": 4
}
