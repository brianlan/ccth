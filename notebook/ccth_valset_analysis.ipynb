{
 "cells": [
  {
   "cell_type": "code",
   "execution_count": 14,
   "metadata": {
    "pycharm": {
     "is_executing": false
    }
   },
   "outputs": [],
   "source": [
    "import os\n",
    "from pathlib import Path\n",
    "\n",
    "import pandas as pd\n",
    "import numpy as np\n",
    "import matplotlib.pyplot as plt\n",
    "from scipy.stats import entropy"
   ]
  },
  {
   "cell_type": "markdown",
   "metadata": {
    "pycharm": {
     "name": "#%%\n"
    }
   },
   "source": [
    "## Verify Metadata\n"
   ]
  },
  {
   "cell_type": "code",
   "execution_count": 15,
   "metadata": {},
   "outputs": [],
   "source": [
    "meta = pd.read_csv(\"/data2/datasets/clobotics/ccth/indices/ccth_sku_metadata_0120.csv\")\n",
    "head_sku_list = pd.read_csv(\"/home/rlan/Downloads/sku_ccth_head_sku.txt\").SystemId.tolist()"
   ]
  },
  {
   "cell_type": "markdown",
   "metadata": {},
   "source": [
    "#### Some Product has no SubBrandId\n",
    "\n",
    "- There're total 10 such rows. \n",
    "- Every row's ProductId is the same as CategoryId.\n",
    "- There're total 13 distinct categories, these 10 categories contains 932/935 products.\n",
    "- The other 3 categories are 1063798, 1063799, 1063800"
   ]
  },
  {
   "cell_type": "code",
   "execution_count": 5,
   "metadata": {},
   "outputs": [
    {
     "data": {
      "text/html": [
       "<div>\n",
       "<style scoped>\n",
       "    .dataframe tbody tr th:only-of-type {\n",
       "        vertical-align: middle;\n",
       "    }\n",
       "\n",
       "    .dataframe tbody tr th {\n",
       "        vertical-align: top;\n",
       "    }\n",
       "\n",
       "    .dataframe thead th {\n",
       "        text-align: right;\n",
       "    }\n",
       "</style>\n",
       "<table border=\"1\" class=\"dataframe\">\n",
       "  <thead>\n",
       "    <tr style=\"text-align: right;\">\n",
       "      <th></th>\n",
       "      <th>ProductId</th>\n",
       "      <th>SKUType</th>\n",
       "      <th>Package</th>\n",
       "      <th>UnitCount</th>\n",
       "      <th>Volume</th>\n",
       "      <th>VolumeType</th>\n",
       "      <th>Industry</th>\n",
       "      <th>Juice</th>\n",
       "      <th>CategoryId</th>\n",
       "      <th>Brand</th>\n",
       "      <th>SubBrand</th>\n",
       "      <th>SubBrandId</th>\n",
       "      <th>Series</th>\n",
       "      <th>Flavor</th>\n",
       "      <th>Market</th>\n",
       "      <th>SKUName</th>\n",
       "    </tr>\n",
       "  </thead>\n",
       "  <tbody>\n",
       "    <tr>\n",
       "      <th>260</th>\n",
       "      <td>1037848</td>\n",
       "      <td>tail</td>\n",
       "      <td>NaN</td>\n",
       "      <td>NaN</td>\n",
       "      <td>NaN</td>\n",
       "      <td>NaN</td>\n",
       "      <td>Drink</td>\n",
       "      <td>Beer</td>\n",
       "      <td>1037848</td>\n",
       "      <td>NaN</td>\n",
       "      <td>NaN</td>\n",
       "      <td>NaN</td>\n",
       "      <td>NaN</td>\n",
       "      <td>NaN</td>\n",
       "      <td>Thailand</td>\n",
       "      <td>Beer-Other</td>\n",
       "    </tr>\n",
       "    <tr>\n",
       "      <th>261</th>\n",
       "      <td>1037849</td>\n",
       "      <td>tail</td>\n",
       "      <td>NaN</td>\n",
       "      <td>NaN</td>\n",
       "      <td>NaN</td>\n",
       "      <td>NaN</td>\n",
       "      <td>Drink</td>\n",
       "      <td>Wine</td>\n",
       "      <td>1037849</td>\n",
       "      <td>NaN</td>\n",
       "      <td>NaN</td>\n",
       "      <td>NaN</td>\n",
       "      <td>NaN</td>\n",
       "      <td>NaN</td>\n",
       "      <td>Thailand</td>\n",
       "      <td>Wine-Other</td>\n",
       "    </tr>\n",
       "    <tr>\n",
       "      <th>262</th>\n",
       "      <td>1037850</td>\n",
       "      <td>tail</td>\n",
       "      <td>NaN</td>\n",
       "      <td>NaN</td>\n",
       "      <td>NaN</td>\n",
       "      <td>NaN</td>\n",
       "      <td>Drink</td>\n",
       "      <td>Sparkling</td>\n",
       "      <td>1037850</td>\n",
       "      <td>NaN</td>\n",
       "      <td>NaN</td>\n",
       "      <td>NaN</td>\n",
       "      <td>NaN</td>\n",
       "      <td>NaN</td>\n",
       "      <td>Thailand</td>\n",
       "      <td>Sparkling-Other</td>\n",
       "    </tr>\n",
       "    <tr>\n",
       "      <th>263</th>\n",
       "      <td>1037851</td>\n",
       "      <td>tail</td>\n",
       "      <td>NaN</td>\n",
       "      <td>NaN</td>\n",
       "      <td>NaN</td>\n",
       "      <td>NaN</td>\n",
       "      <td>Drink</td>\n",
       "      <td>Water</td>\n",
       "      <td>1037851</td>\n",
       "      <td>NaN</td>\n",
       "      <td>NaN</td>\n",
       "      <td>NaN</td>\n",
       "      <td>NaN</td>\n",
       "      <td>NaN</td>\n",
       "      <td>Thailand</td>\n",
       "      <td>Water-Other</td>\n",
       "    </tr>\n",
       "    <tr>\n",
       "      <th>264</th>\n",
       "      <td>1037852</td>\n",
       "      <td>tail</td>\n",
       "      <td>NaN</td>\n",
       "      <td>NaN</td>\n",
       "      <td>NaN</td>\n",
       "      <td>NaN</td>\n",
       "      <td>Drink</td>\n",
       "      <td>Juice</td>\n",
       "      <td>1037852</td>\n",
       "      <td>NaN</td>\n",
       "      <td>NaN</td>\n",
       "      <td>NaN</td>\n",
       "      <td>NaN</td>\n",
       "      <td>NaN</td>\n",
       "      <td>Thailand</td>\n",
       "      <td>Juice-Other</td>\n",
       "    </tr>\n",
       "    <tr>\n",
       "      <th>265</th>\n",
       "      <td>1037853</td>\n",
       "      <td>tail</td>\n",
       "      <td>NaN</td>\n",
       "      <td>NaN</td>\n",
       "      <td>NaN</td>\n",
       "      <td>NaN</td>\n",
       "      <td>Drink</td>\n",
       "      <td>Sports Drink</td>\n",
       "      <td>1037853</td>\n",
       "      <td>NaN</td>\n",
       "      <td>NaN</td>\n",
       "      <td>NaN</td>\n",
       "      <td>NaN</td>\n",
       "      <td>NaN</td>\n",
       "      <td>Thailand</td>\n",
       "      <td>Sports Drink-Other</td>\n",
       "    </tr>\n",
       "    <tr>\n",
       "      <th>406</th>\n",
       "      <td>1051447</td>\n",
       "      <td>tail</td>\n",
       "      <td>NaN</td>\n",
       "      <td>NaN</td>\n",
       "      <td>NaN</td>\n",
       "      <td>NaN</td>\n",
       "      <td>Drink</td>\n",
       "      <td>Dairy</td>\n",
       "      <td>1051447</td>\n",
       "      <td>NaN</td>\n",
       "      <td>NaN</td>\n",
       "      <td>NaN</td>\n",
       "      <td>NaN</td>\n",
       "      <td>NaN</td>\n",
       "      <td>Thailand</td>\n",
       "      <td>Dairy-Other</td>\n",
       "    </tr>\n",
       "    <tr>\n",
       "      <th>407</th>\n",
       "      <td>1051448</td>\n",
       "      <td>tail</td>\n",
       "      <td>NaN</td>\n",
       "      <td>NaN</td>\n",
       "      <td>NaN</td>\n",
       "      <td>NaN</td>\n",
       "      <td>Drink</td>\n",
       "      <td>Coffee</td>\n",
       "      <td>1051448</td>\n",
       "      <td>NaN</td>\n",
       "      <td>NaN</td>\n",
       "      <td>NaN</td>\n",
       "      <td>NaN</td>\n",
       "      <td>NaN</td>\n",
       "      <td>Thailand</td>\n",
       "      <td>Coffee-Other</td>\n",
       "    </tr>\n",
       "    <tr>\n",
       "      <th>409</th>\n",
       "      <td>1051868</td>\n",
       "      <td>tail</td>\n",
       "      <td>NaN</td>\n",
       "      <td>NaN</td>\n",
       "      <td>NaN</td>\n",
       "      <td>NaN</td>\n",
       "      <td>Drink</td>\n",
       "      <td>Tea</td>\n",
       "      <td>1051868</td>\n",
       "      <td>NaN</td>\n",
       "      <td>NaN</td>\n",
       "      <td>NaN</td>\n",
       "      <td>NaN</td>\n",
       "      <td>NaN</td>\n",
       "      <td>Thailand</td>\n",
       "      <td>Tea-Other</td>\n",
       "    </tr>\n",
       "    <tr>\n",
       "      <th>410</th>\n",
       "      <td>1051869</td>\n",
       "      <td>tail</td>\n",
       "      <td>NaN</td>\n",
       "      <td>NaN</td>\n",
       "      <td>NaN</td>\n",
       "      <td>NaN</td>\n",
       "      <td>Drink</td>\n",
       "      <td>Energy</td>\n",
       "      <td>1051869</td>\n",
       "      <td>NaN</td>\n",
       "      <td>NaN</td>\n",
       "      <td>NaN</td>\n",
       "      <td>NaN</td>\n",
       "      <td>NaN</td>\n",
       "      <td>Thailand</td>\n",
       "      <td>Energy-Other</td>\n",
       "    </tr>\n",
       "  </tbody>\n",
       "</table>\n",
       "</div>"
      ],
      "text/plain": [
       "     ProductId SKUType Package  UnitCount  Volume VolumeType Industry  \\\n",
       "260    1037848    tail     NaN        NaN     NaN        NaN    Drink   \n",
       "261    1037849    tail     NaN        NaN     NaN        NaN    Drink   \n",
       "262    1037850    tail     NaN        NaN     NaN        NaN    Drink   \n",
       "263    1037851    tail     NaN        NaN     NaN        NaN    Drink   \n",
       "264    1037852    tail     NaN        NaN     NaN        NaN    Drink   \n",
       "265    1037853    tail     NaN        NaN     NaN        NaN    Drink   \n",
       "406    1051447    tail     NaN        NaN     NaN        NaN    Drink   \n",
       "407    1051448    tail     NaN        NaN     NaN        NaN    Drink   \n",
       "409    1051868    tail     NaN        NaN     NaN        NaN    Drink   \n",
       "410    1051869    tail     NaN        NaN     NaN        NaN    Drink   \n",
       "\n",
       "            Juice  CategoryId Brand SubBrand  SubBrandId Series Flavor  \\\n",
       "260          Beer     1037848   NaN      NaN         NaN    NaN    NaN   \n",
       "261          Wine     1037849   NaN      NaN         NaN    NaN    NaN   \n",
       "262     Sparkling     1037850   NaN      NaN         NaN    NaN    NaN   \n",
       "263         Water     1037851   NaN      NaN         NaN    NaN    NaN   \n",
       "264         Juice     1037852   NaN      NaN         NaN    NaN    NaN   \n",
       "265  Sports Drink     1037853   NaN      NaN         NaN    NaN    NaN   \n",
       "406         Dairy     1051447   NaN      NaN         NaN    NaN    NaN   \n",
       "407        Coffee     1051448   NaN      NaN         NaN    NaN    NaN   \n",
       "409           Tea     1051868   NaN      NaN         NaN    NaN    NaN   \n",
       "410        Energy     1051869   NaN      NaN         NaN    NaN    NaN   \n",
       "\n",
       "       Market             SKUName  \n",
       "260  Thailand          Beer-Other  \n",
       "261  Thailand          Wine-Other  \n",
       "262  Thailand     Sparkling-Other  \n",
       "263  Thailand         Water-Other  \n",
       "264  Thailand         Juice-Other  \n",
       "265  Thailand  Sports Drink-Other  \n",
       "406  Thailand         Dairy-Other  \n",
       "407  Thailand        Coffee-Other  \n",
       "409  Thailand           Tea-Other  \n",
       "410  Thailand        Energy-Other  "
      ]
     },
     "execution_count": 5,
     "metadata": {},
     "output_type": "execute_result"
    }
   ],
   "source": [
    "meta[pd.isnull(meta.SubBrandId)]"
   ]
  },
  {
   "cell_type": "code",
   "execution_count": 6,
   "metadata": {},
   "outputs": [
    {
     "data": {
      "text/plain": [
       "932"
      ]
     },
     "execution_count": 6,
     "metadata": {},
     "output_type": "execute_result"
    }
   ],
   "source": [
    "len(meta[meta.CategoryId.isin(meta[pd.isnull(meta.SubBrandId)].CategoryId.values)])"
   ]
  },
  {
   "cell_type": "code",
   "execution_count": 25,
   "metadata": {},
   "outputs": [
    {
     "data": {
      "text/plain": [
       "935"
      ]
     },
     "execution_count": 25,
     "metadata": {},
     "output_type": "execute_result"
    }
   ],
   "source": [
    "len(meta)"
   ]
  },
  {
   "cell_type": "code",
   "execution_count": 26,
   "metadata": {},
   "outputs": [
    {
     "data": {
      "text/plain": [
       "[1037848,\n",
       " 1037849,\n",
       " 1037850,\n",
       " 1037851,\n",
       " 1037852,\n",
       " 1037853,\n",
       " 1051447,\n",
       " 1051868,\n",
       " 1051869,\n",
       " 1051448,\n",
       " 1063798,\n",
       " 1063799,\n",
       " 1063800]"
      ]
     },
     "execution_count": 26,
     "metadata": {},
     "output_type": "execute_result"
    }
   ],
   "source": [
    "meta.CategoryId.unique().tolist()"
   ]
  },
  {
   "cell_type": "code",
   "execution_count": 27,
   "metadata": {
    "scrolled": true
   },
   "outputs": [
    {
     "data": {
      "text/html": [
       "<div>\n",
       "<style scoped>\n",
       "    .dataframe tbody tr th:only-of-type {\n",
       "        vertical-align: middle;\n",
       "    }\n",
       "\n",
       "    .dataframe tbody tr th {\n",
       "        vertical-align: top;\n",
       "    }\n",
       "\n",
       "    .dataframe thead th {\n",
       "        text-align: right;\n",
       "    }\n",
       "</style>\n",
       "<table border=\"1\" class=\"dataframe\">\n",
       "  <thead>\n",
       "    <tr style=\"text-align: right;\">\n",
       "      <th></th>\n",
       "      <th>ProductId</th>\n",
       "      <th>SKUType</th>\n",
       "      <th>Package</th>\n",
       "      <th>UnitCount</th>\n",
       "      <th>Volume</th>\n",
       "      <th>VolumeType</th>\n",
       "      <th>Industry</th>\n",
       "      <th>Juice</th>\n",
       "      <th>CategoryId</th>\n",
       "      <th>Brand</th>\n",
       "      <th>SubBrand</th>\n",
       "      <th>SubBrandId</th>\n",
       "      <th>Series</th>\n",
       "      <th>Flavor</th>\n",
       "      <th>Market</th>\n",
       "      <th>SKUName</th>\n",
       "    </tr>\n",
       "  </thead>\n",
       "  <tbody>\n",
       "    <tr>\n",
       "      <th>821</th>\n",
       "      <td>1080731</td>\n",
       "      <td>NaN</td>\n",
       "      <td>NaN</td>\n",
       "      <td>NaN</td>\n",
       "      <td>NaN</td>\n",
       "      <td>NaN</td>\n",
       "      <td>Drink</td>\n",
       "      <td>Sports Drink</td>\n",
       "      <td>1063798</td>\n",
       "      <td>NaN</td>\n",
       "      <td>Moove Protein Water</td>\n",
       "      <td>1037853.0</td>\n",
       "      <td>NaN</td>\n",
       "      <td>NaN</td>\n",
       "      <td>Thailand</td>\n",
       "      <td>Moove Protein Water Sports Drink-Other</td>\n",
       "    </tr>\n",
       "    <tr>\n",
       "      <th>822</th>\n",
       "      <td>1080732</td>\n",
       "      <td>NaN</td>\n",
       "      <td>NaN</td>\n",
       "      <td>NaN</td>\n",
       "      <td>NaN</td>\n",
       "      <td>NaN</td>\n",
       "      <td>Drink</td>\n",
       "      <td>Juice</td>\n",
       "      <td>1063799</td>\n",
       "      <td>NaN</td>\n",
       "      <td>Andalus</td>\n",
       "      <td>1037852.0</td>\n",
       "      <td>NaN</td>\n",
       "      <td>NaN</td>\n",
       "      <td>Thailand</td>\n",
       "      <td>Andalus Juice-Other</td>\n",
       "    </tr>\n",
       "    <tr>\n",
       "      <th>823</th>\n",
       "      <td>1080733</td>\n",
       "      <td>NaN</td>\n",
       "      <td>NaN</td>\n",
       "      <td>NaN</td>\n",
       "      <td>NaN</td>\n",
       "      <td>NaN</td>\n",
       "      <td>Drink</td>\n",
       "      <td>Sports Drink1037853</td>\n",
       "      <td>1063800</td>\n",
       "      <td>NaN</td>\n",
       "      <td>Gatorade</td>\n",
       "      <td>1037853.0</td>\n",
       "      <td>NaN</td>\n",
       "      <td>NaN</td>\n",
       "      <td>Thailand</td>\n",
       "      <td>Gatorade Sports Drink-Other</td>\n",
       "    </tr>\n",
       "  </tbody>\n",
       "</table>\n",
       "</div>"
      ],
      "text/plain": [
       "     ProductId SKUType Package  UnitCount  Volume VolumeType Industry  \\\n",
       "821    1080731     NaN     NaN        NaN     NaN        NaN    Drink   \n",
       "822    1080732     NaN     NaN        NaN     NaN        NaN    Drink   \n",
       "823    1080733     NaN     NaN        NaN     NaN        NaN    Drink   \n",
       "\n",
       "                   Juice  CategoryId Brand             SubBrand  SubBrandId  \\\n",
       "821         Sports Drink     1063798   NaN  Moove Protein Water   1037853.0   \n",
       "822                Juice     1063799   NaN              Andalus   1037852.0   \n",
       "823  Sports Drink1037853     1063800   NaN             Gatorade   1037853.0   \n",
       "\n",
       "    Series Flavor    Market                                 SKUName  \n",
       "821    NaN    NaN  Thailand  Moove Protein Water Sports Drink-Other  \n",
       "822    NaN    NaN  Thailand                     Andalus Juice-Other  \n",
       "823    NaN    NaN  Thailand             Gatorade Sports Drink-Other  "
      ]
     },
     "execution_count": 27,
     "metadata": {},
     "output_type": "execute_result"
    }
   ],
   "source": [
    "meta[meta.CategoryId.isin([1063798, 1063799, 1063800])]"
   ]
  },
  {
   "cell_type": "markdown",
   "metadata": {},
   "source": [
    "#### Check whether there's overlap between subbrand"
   ]
  },
  {
   "cell_type": "code",
   "execution_count": 11,
   "metadata": {},
   "outputs": [],
   "source": [
    "product_ids_in_each_subbrand = meta.groupby(\"SubBrandId\")[\"ProductId\"].apply(lambda x: ','.join(x.astype(str)))"
   ]
  },
  {
   "cell_type": "code",
   "execution_count": 14,
   "metadata": {},
   "outputs": [
    {
     "data": {
      "text/plain": [
       "925"
      ]
     },
     "execution_count": 14,
     "metadata": {},
     "output_type": "execute_result"
    }
   ],
   "source": [
    "len(\",\".join(product_ids_in_each_subbrand.values).split(\",\"))"
   ]
  },
  {
   "cell_type": "code",
   "execution_count": 17,
   "metadata": {},
   "outputs": [
    {
     "data": {
      "text/plain": [
       "(925,)"
      ]
     },
     "execution_count": 17,
     "metadata": {},
     "output_type": "execute_result"
    }
   ],
   "source": [
    "meta[~pd.isnull(meta.SubBrandId)][\"ProductId\"].unique().shape"
   ]
  },
  {
   "cell_type": "markdown",
   "metadata": {},
   "source": [
    "#### check whether there's overlap between categories"
   ]
  },
  {
   "cell_type": "code",
   "execution_count": 19,
   "metadata": {},
   "outputs": [],
   "source": [
    "product_ids_in_each_category = meta.groupby(\"CategoryId\")[\"ProductId\"].apply(lambda x: ','.join(x.astype(str)))"
   ]
  },
  {
   "cell_type": "code",
   "execution_count": 20,
   "metadata": {},
   "outputs": [
    {
     "data": {
      "text/plain": [
       "935"
      ]
     },
     "execution_count": 20,
     "metadata": {},
     "output_type": "execute_result"
    }
   ],
   "source": [
    "len(\",\".join(product_ids_in_each_category.values).split(\",\"))"
   ]
  },
  {
   "cell_type": "code",
   "execution_count": 21,
   "metadata": {
    "scrolled": true
   },
   "outputs": [
    {
     "data": {
      "text/plain": [
       "(935,)"
      ]
     },
     "execution_count": 21,
     "metadata": {},
     "output_type": "execute_result"
    }
   ],
   "source": [
    "meta[~pd.isnull(meta.CategoryId)][\"ProductId\"].unique().shape"
   ]
  },
  {
   "cell_type": "markdown",
   "metadata": {},
   "source": [
    "#### check how many subbrand and their distribution"
   ]
  },
  {
   "cell_type": "code",
   "execution_count": 13,
   "metadata": {},
   "outputs": [
    {
     "data": {
      "text/plain": [
       "1037838.0    59\n",
       "1037818.0    53\n",
       "1037823.0    24\n",
       "1037836.0    23\n",
       "1037810.0    21\n",
       "             ..\n",
       "1079405.0     1\n",
       "1065243.0     1\n",
       "1065279.0     1\n",
       "1079407.0     1\n",
       "1079296.0     1\n",
       "Name: SubBrandId, Length: 429, dtype: int64"
      ]
     },
     "execution_count": 13,
     "metadata": {},
     "output_type": "execute_result"
    }
   ],
   "source": [
    "meta.SubBrandId.value_counts()"
   ]
  },
  {
   "cell_type": "markdown",
   "metadata": {},
   "source": [
    "#### check how many subbrand only contains 1 sku"
   ]
  },
  {
   "cell_type": "code",
   "execution_count": 10,
   "metadata": {},
   "outputs": [
    {
     "data": {
      "text/plain": [
       "(314, 16)"
      ]
     },
     "execution_count": 10,
     "metadata": {},
     "output_type": "execute_result"
    }
   ],
   "source": [
    "prod_list = meta[meta.SubBrandId == meta.ProductId].ProductId.values\n",
    "meta[meta.ProductId.isin(prod_list)].shape"
   ]
  },
  {
   "cell_type": "markdown",
   "metadata": {},
   "source": [
    "## Verify Validation set and metadata"
   ]
  },
  {
   "cell_type": "code",
   "execution_count": 2,
   "metadata": {},
   "outputs": [],
   "source": [
    "val = pd.read_csv(\"/data2/datasets/clobotics/ccth/labels/val/20200117/test_data_ccth_20200117.csv\")"
   ]
  },
  {
   "cell_type": "code",
   "execution_count": 45,
   "metadata": {},
   "outputs": [
    {
     "data": {
      "text/plain": [
       "708"
      ]
     },
     "execution_count": 45,
     "metadata": {},
     "output_type": "execute_result"
    }
   ],
   "source": [
    "sku_ids_from_label_csv = val.ProductId.unique()\n",
    "len(sku_ids_from_label_csv)"
   ]
  },
  {
   "cell_type": "markdown",
   "metadata": {},
   "source": [
    "#### Check whether all the skus shown up are defined in metadata\n",
    "\n",
    "- 1, 1265, 1000050, 1053247, 1070847, 1072770, 1079969, 1080433, 1080718, 1080801 not defined in meta csv\n"
   ]
  },
  {
   "cell_type": "code",
   "execution_count": 46,
   "metadata": {},
   "outputs": [
    {
     "data": {
      "text/plain": [
       "{1,\n",
       " 1265,\n",
       " 1000050,\n",
       " 1053247,\n",
       " 1070847,\n",
       " 1072770,\n",
       " 1079969,\n",
       " 1080433,\n",
       " 1080718,\n",
       " 1080801}"
      ]
     },
     "execution_count": 46,
     "metadata": {},
     "output_type": "execute_result"
    }
   ],
   "source": [
    "set(sku_ids_from_label_csv) - set(meta.ProductId.tolist())"
   ]
  },
  {
   "cell_type": "markdown",
   "metadata": {},
   "source": [
    "#### check some columns' distinct values"
   ]
  },
  {
   "cell_type": "code",
   "execution_count": 42,
   "metadata": {},
   "outputs": [
    {
     "data": {
      "text/plain": [
       "array(['[]', '[\"Unqualified\"]', '[\"无目标产品\"]'], dtype=object)"
      ]
     },
     "execution_count": 42,
     "metadata": {},
     "output_type": "execute_result"
    }
   ],
   "source": [
    "val.ImageQuality.unique()"
   ]
  },
  {
   "cell_type": "code",
   "execution_count": 43,
   "metadata": {},
   "outputs": [
    {
     "data": {
      "text/plain": [
       "array([0])"
      ]
     },
     "execution_count": 43,
     "metadata": {},
     "output_type": "execute_result"
    }
   ],
   "source": [
    "val.Rotation.unique()"
   ]
  },
  {
   "cell_type": "code",
   "execution_count": 44,
   "metadata": {},
   "outputs": [
    {
     "data": {
      "text/plain": [
       "array(['[]'], dtype=object)"
      ]
     },
     "execution_count": 44,
     "metadata": {},
     "output_type": "execute_result"
    }
   ],
   "source": [
    "val.SceneType.unique()"
   ]
  },
  {
   "cell_type": "markdown",
   "metadata": {},
   "source": [
    "## Check Distribution of SKUs"
   ]
  },
  {
   "cell_type": "markdown",
   "metadata": {},
   "source": [
    "#### Check whether there're SKUs lack of eval_cnt in the VAL set"
   ]
  },
  {
   "cell_type": "code",
   "execution_count": 3,
   "metadata": {},
   "outputs": [],
   "source": [
    "val = pd.read_csv(\"/data2/datasets/clobotics/ccth/labels/val/20200117/test_data_ccth_20200117.csv\")\n",
    "head_sku_list = pd.read_csv(\"/data2/datasets/clobotics/ccth/indices/sku_ccth_head_sku.txt\").SystemId.values\n",
    "\n",
    "stats = val[val.ProductId.isin(head_sku_list)][\"ProductId\"].value_counts()"
   ]
  },
  {
   "cell_type": "code",
   "execution_count": 8,
   "metadata": {},
   "outputs": [
    {
     "data": {
      "image/png": "[encoded data removed]",
      "text/plain": [
       "<Figure size 1296x288 with 1 Axes>"
      ]
     },
     "metadata": {
      "needs_background": "light"
     },
     "output_type": "display_data"
    }
   ],
   "source": [
    "plt.figure(figsize=(18, 4))\n",
    "_ = plt.bar(stats.index.astype(str), stats.values)\n",
    "_ = plt.xticks(rotation=90)"
   ]
  },
  {
   "cell_type": "code",
   "execution_count": 19,
   "metadata": {},
   "outputs": [
    {
     "name": "stdout",
     "output_type": "stream",
     "text": [
      "Total number of SKUs in head sku list: 455\n",
      "Total number of SKUs in VAL set: 380\n",
      "Number of SKUs in valset has more than 50 samples: 233 (61.3%)\n",
      "Number of SKUs in valset has more than 20 samples: 295 (77.6%)\n",
      "Number of SKUs in valset has more than 10 samples: 325 (85.5%)\n",
      "Number of SKUs in valset has more than 5 samples: 344 (90.5%)\n"
     ]
    }
   ],
   "source": [
    "print(f\"Total number of SKUs in head sku list: {len(head_sku_list)}\")\n",
    "print(f\"Total number of SKUs in VAL set: {len(stats)}\")\n",
    "print(f\"Number of SKUs in valset has more than 50 samples: {(stats >= 50).sum()} ({(stats >= 50).sum() / len(stats) * 100:.1f}%)\")\n",
    "print(f\"Number of SKUs in valset has more than 20 samples: {(stats >= 20).sum()} ({(stats >= 20).sum() / len(stats) * 100:.1f}%)\")\n",
    "print(f\"Number of SKUs in valset has more than 10 samples: {(stats >= 10).sum()} ({(stats >= 10).sum() / len(stats) * 100:.1f}%)\")\n",
    "print(f\"Number of SKUs in valset has more than 5 samples: {(stats >= 5).sum()} ({(stats >= 5).sum() / len(stats) * 100:.1f}%)\")"
   ]
  },
  {
   "cell_type": "markdown",
   "metadata": {},
   "source": [
    "#### Check whether there're SKUs lack of eval_cnt in the TRAIN set"
   ]
  },
  {
   "cell_type": "code",
   "execution_count": 4,
   "metadata": {},
   "outputs": [],
   "source": [
    "train = pd.concat([pd.read_csv(p) for p in Path(\"/data2/datasets/clobotics/ccth/labels/train/20200129\").glob(\"*.csv\")])\n",
    "head_sku_list = pd.read_csv(\"/data2/datasets/clobotics/ccth/indices/sku_ccth_head_sku.txt\").SystemId.values\n",
    "stats = train[train.ProductId.isin(head_sku_list)][\"ProductId\"].value_counts()"
   ]
  },
  {
   "cell_type": "code",
   "execution_count": 22,
   "metadata": {},
   "outputs": [
    {
     "name": "stdout",
     "output_type": "stream",
     "text": [
      "Total number of SKUs in head sku list: 455\n",
      "Total number of SKUs in TRAIN set: 401\n",
      "Number of SKUs in valset has more than 200 samples: 275 (68.6%)\n",
      "Number of SKUs in valset has more than 100 samples: 304 (75.8%)\n",
      "Number of SKUs in valset has more than 50 samples: 333 (83.0%)\n",
      "Number of SKUs in valset has more than 20 samples: 363 (90.5%)\n",
      "Number of SKUs in valset has more than 10 samples: 374 (93.3%)\n",
      "Number of SKUs in valset has more than 5 samples: 381 (95.0%)\n"
     ]
    }
   ],
   "source": [
    "print(f\"Total number of SKUs in head sku list: {len(head_sku_list)}\")\n",
    "print(f\"Total number of SKUs in TRAIN set: {len(stats)}\")\n",
    "print(f\"Number of SKUs in valset has more than 200 samples: {(stats >= 200).sum()} ({(stats >= 200).sum() / len(stats) * 100:.1f}%)\")\n",
    "print(f\"Number of SKUs in valset has more than 100 samples: {(stats >= 100).sum()} ({(stats >= 100).sum() / len(stats) * 100:.1f}%)\")\n",
    "print(f\"Number of SKUs in valset has more than 50 samples: {(stats >= 50).sum()} ({(stats >= 50).sum() / len(stats) * 100:.1f}%)\")\n",
    "print(f\"Number of SKUs in valset has more than 20 samples: {(stats >= 20).sum()} ({(stats >= 20).sum() / len(stats) * 100:.1f}%)\")\n",
    "print(f\"Number of SKUs in valset has more than 10 samples: {(stats >= 10).sum()} ({(stats >= 10).sum() / len(stats) * 100:.1f}%)\")\n",
    "print(f\"Number of SKUs in valset has more than 5 samples: {(stats >= 5).sum()} ({(stats >= 5).sum() / len(stats) * 100:.1f}%)\")"
   ]
  },
  {
   "cell_type": "markdown",
   "metadata": {},
   "source": [
    "#### Check whether TRAIN and VAL set distribution conform"
   ]
  },
  {
   "cell_type": "code",
   "execution_count": 5,
   "metadata": {},
   "outputs": [],
   "source": [
    "val_stats = val[val.ProductId.isin(head_sku_list)][\"ProductId\"].value_counts()\n",
    "train_stats = train[train.ProductId.isin(head_sku_list)][\"ProductId\"].value_counts()"
   ]
  },
  {
   "cell_type": "code",
   "execution_count": 14,
   "metadata": {},
   "outputs": [],
   "source": [
    "# val_distribution = np.zeros(len(head_sku_list))\n",
    "# train_distribution = np.zeros(len(head_sku_list))\n",
    "val_distribution = np.array([val_stats.get(sku) or 0.0 for sku in head_sku_list])\n",
    "train_distribution = np.array([train_stats.get(sku) or 0.0 for sku in head_sku_list])\n",
    "val_distribution = val_distribution / val_distribution.sum()\n",
    "train_distribution = train_distribution / train_distribution.sum()"
   ]
  },
  {
   "cell_type": "code",
   "execution_count": 21,
   "metadata": {},
   "outputs": [],
   "source": [
    "def kl_divergence(a, b):\n",
    "    return np.sum(np.where((a != 0) & (b != 0), a * np.log(a / b), 0))"
   ]
  },
  {
   "cell_type": "code",
   "execution_count": 22,
   "metadata": {},
   "outputs": [
    {
     "name": "stderr",
     "output_type": "stream",
     "text": [
      "/home/rlan/anaconda3/envs/cuml_py37/lib/python3.7/site-packages/ipykernel_launcher.py:2: RuntimeWarning: divide by zero encountered in true_divide\n",
      "  \n",
      "/home/rlan/anaconda3/envs/cuml_py37/lib/python3.7/site-packages/ipykernel_launcher.py:2: RuntimeWarning: invalid value encountered in true_divide\n",
      "  \n",
      "/home/rlan/anaconda3/envs/cuml_py37/lib/python3.7/site-packages/ipykernel_launcher.py:2: RuntimeWarning: divide by zero encountered in log\n",
      "  \n",
      "/home/rlan/anaconda3/envs/cuml_py37/lib/python3.7/site-packages/ipykernel_launcher.py:2: RuntimeWarning: invalid value encountered in multiply\n",
      "  \n"
     ]
    },
    {
     "data": {
      "text/plain": [
       "0.2733246131415151"
      ]
     },
     "execution_count": 22,
     "metadata": {},
     "output_type": "execute_result"
    }
   ],
   "source": [
    "kl_divergence(val_distribution, train_distribution)"
   ]
  },
  {
   "cell_type": "code",
   "execution_count": 16,
   "metadata": {},
   "outputs": [
    {
     "data": {
      "image/png": "[encoded data removed]",
      "text/plain": [
       "<Figure size 1296x288 with 1 Axes>"
      ]
     },
     "metadata": {
      "needs_background": "light"
     },
     "output_type": "display_data"
    }
   ],
   "source": [
    "plt.figure(figsize=(18, 4))\n",
    "_ = plt.bar(np.arange(len(val_distribution)), val_distribution)"
   ]
  },
  {
   "cell_type": "code",
   "execution_count": 17,
   "metadata": {},
   "outputs": [
    {
     "data": {
      "image/png": "[encoded data removed]",
      "text/plain": [
       "<Figure size 1296x288 with 1 Axes>"
      ]
     },
     "metadata": {
      "needs_background": "light"
     },
     "output_type": "display_data"
    }
   ],
   "source": [
    "plt.figure(figsize=(18, 4))\n",
    "_ = plt.bar(np.arange(len(train_distribution)), train_distribution)"
   ]
  },
  {
   "cell_type": "markdown",
   "metadata": {},
   "source": [
    "### find sku in each category that occurred the most"
   ]
  },
  {
   "cell_type": "code",
   "execution_count": 6,
   "metadata": {},
   "outputs": [],
   "source": [
    "val_meta = pd.merge(val, meta, on=\"ProductId\", how=\"left\")"
   ]
  },
  {
   "cell_type": "code",
   "execution_count": 19,
   "metadata": {
    "scrolled": false
   },
   "outputs": [
    {
     "name": "stdout",
     "output_type": "stream",
     "text": [
      "\n",
      "------ 1037848 -------\n",
      "ProductId\n",
      "1037569    2818\n",
      "1037551    2814\n",
      "1037561    2529\n",
      "1037564    2452\n",
      "1052396     415\n",
      "1037562     402\n",
      "1037553     331\n",
      "1037552     315\n",
      "1079328     276\n",
      "1037848     256\n",
      "Name: ProductId, dtype: int64\n",
      "\n",
      "------ 1037849 -------\n",
      "ProductId\n",
      "1037554    846\n",
      "1037556    652\n",
      "1037558    350\n",
      "1079344    289\n",
      "1037568    288\n",
      "1052395    283\n",
      "1037805    162\n",
      "1037809    123\n",
      "1037849    120\n",
      "1082150    105\n",
      "Name: ProductId, dtype: int64\n",
      "\n",
      "------ 1037850 -------\n",
      "ProductId\n",
      "1037709    8092\n",
      "1037728    6226\n",
      "1037769    4472\n",
      "1037742    3543\n",
      "1037748    2632\n",
      "1037741    2343\n",
      "1037733    2139\n",
      "1037572    1972\n",
      "1037732    1913\n",
      "1037583    1899\n",
      "Name: ProductId, dtype: int64\n",
      "\n",
      "------ 1037851 -------\n",
      "ProductId\n",
      "1037800    3042\n",
      "1037851    2985\n",
      "1051439    1557\n",
      "1079451    1423\n",
      "1037654     630\n",
      "1077653     628\n",
      "1079368     547\n",
      "1079248     394\n",
      "1077651     363\n",
      "1037802     341\n",
      "Name: ProductId, dtype: int64\n",
      "\n",
      "------ 1037852 -------\n",
      "ProductId\n",
      "1037852    4451\n",
      "1037794    2288\n",
      "1037779    1403\n",
      "1037828    1242\n",
      "1079294    1104\n",
      "1079456    1080\n",
      "1037832    1007\n",
      "1079460     839\n",
      "1082140     750\n",
      "1047824     674\n",
      "Name: ProductId, dtype: int64\n",
      "\n",
      "------ 1037853 -------\n",
      "ProductId\n",
      "1079290    619\n",
      "1079373    336\n",
      "1079296    150\n",
      "1079265    132\n",
      "1037853     96\n",
      "1082145     87\n",
      "1079401     80\n",
      "1079472     67\n",
      "1079287      8\n",
      "1037846      7\n",
      "Name: ProductId, dtype: int64\n",
      "\n",
      "------ 1051447 -------\n",
      "ProductId\n",
      "1079300    7993\n",
      "1079259    3491\n",
      "1072768    3448\n",
      "1079314    2980\n",
      "1079299    2676\n",
      "1079298    2249\n",
      "1079297    2140\n",
      "1072766    2003\n",
      "1051447    1804\n",
      "1079394    1453\n",
      "Name: ProductId, dtype: int64\n",
      "\n",
      "------ 1051868 -------\n",
      "ProductId\n",
      "1079391    2717\n",
      "1072776    1804\n",
      "1072777    1271\n",
      "1082154     882\n",
      "1062865     328\n",
      "1051868     309\n",
      "1062871     263\n",
      "1062874     234\n",
      "1079461     226\n",
      "1072772     168\n",
      "Name: ProductId, dtype: int64\n",
      "\n",
      "------ 1051869 -------\n",
      "ProductId\n",
      "1052381    4670\n",
      "1079267    3546\n",
      "1052380    3336\n",
      "1062876    3283\n",
      "1052379    1584\n",
      "1052382    1540\n",
      "1070846    1201\n",
      "1079321    1080\n",
      "1079439     904\n",
      "1051869     825\n",
      "Name: ProductId, dtype: int64\n",
      "\n",
      "------ 1051448 -------\n",
      "ProductId\n",
      "1062858    3501\n",
      "1052384    2562\n",
      "1062857     985\n",
      "1072764     819\n",
      "1079246     515\n",
      "1052386     482\n",
      "1051448     473\n",
      "1052388     453\n",
      "1052385     451\n",
      "1079380     246\n",
      "Name: ProductId, dtype: int64\n"
     ]
    }
   ],
   "source": [
    "for category_id in [1037848,1037849,1037850,1037851,1037852,1037853,1051447,1051868,1051869,1051448]:\n",
    "    print(f\"\\n------ {category_id} -------\")\n",
    "    top = val_meta[val_meta.CategoryId == category_id].groupby(\"ProductId\")[\"ProductId\"].count().sort_values(ascending=False)[:10]\n",
    "    print(top)"
   ]
  },
  {
   "cell_type": "code",
   "execution_count": 20,
   "metadata": {},
   "outputs": [
    {
     "data": {
      "text/plain": [
       "[\"1079267#Brands'#Energy-Other\",\n",
       " '1037794#RB#250ML#Minute#Maid#Splash',\n",
       " '1079259#Betagen#Dairy-Other',\n",
       " '1037807#Chang#Beer-Other',\n",
       " '1037800#PET#550ML#Namthip#Drinking#Water',\n",
       " '1082144#J-Mix#Juice-Other#',\n",
       " '1079460#Unif#Juice-Other',\n",
       " '1079298#Dutchie#Dairy-Other',\n",
       " '1082177#The#Shogun#Juice-Other',\n",
       " '1082140#Jele#Light#Juice-Other',\n",
       " '1079343#Jele#Double#Jelly#Juice-Other',\n",
       " '1037611#SLE#250ML#EST#Play#Grape#Berry',\n",
       " '1037852#Juice-Other',\n",
       " '1052382#RB#100ML#Lipovitan-D',\n",
       " '1037833#Malee#Healti#Plus#Juice-Other',\n",
       " '1072766#Vitamilk#Dairy-other',\n",
       " '1062858#CAN#180ML#Birdy#Coffee#Robusta',\n",
       " '1072769#Magic#Dairy-other',\n",
       " '1052380#RB#150ML#Carabao',\n",
       " '1051440#Singha#Soda#Water#Sparkling-Other',\n",
       " '1079300#Dutch#Mill#DKY#Dairy-Other']"
      ]
     },
     "execution_count": 20,
     "metadata": {},
     "output_type": "execute_result"
    }
   ],
   "source": [
    "chosen_sku_ids = [1079300,1037852,1079267,1062858,1079259,1052380,1037800,1037794,1079298,1072766,1052382,1072769,1079460,1082140,1037833,1051440,1037611,1082144,1082177,1037807,1079343]\n",
    "[p for p in os.listdir(\"/tmp/clust-exp\") if int(p.split(\"#\")[0]) in chosen_sku_ids]"
   ]
  },
  {
   "cell_type": "code",
   "execution_count": null,
   "metadata": {},
   "outputs": [],
   "source": []
  }
 ],
 "metadata": {
  "kernelspec": {
   "display_name": "Python 3",
   "language": "python",
   "name": "python3"
  },
  "language_info": {
   "codemirror_mode": {
    "name": "ipython",
    "version": 3
   },
   "file_extension": ".py",
   "mimetype": "text/x-python",
   "name": "python",
   "nbconvert_exporter": "python",
   "pygments_lexer": "ipython3",
   "version": "3.7.6"
  },
  "pycharm": {
   "stem_cell": {
    "cell_type": "raw",
    "metadata": {
     "collapsed": false
    },
    "source": []
   }
  }
 },
 "nbformat": 4,
 "nbformat_minor": 1
}
