{
 "cells": [
  {
   "cell_type": "code",
   "execution_count": 1,
   "metadata": {},
   "outputs": [],
   "source": [
    "from pathlib import Path\n",
    "from collections import defaultdict\n",
    "import shutil\n",
    "\n",
    "from tqdm import tqdm\n",
    "import numpy as np\n",
    "import torch"
   ]
  },
  {
   "cell_type": "code",
   "execution_count": 17,
   "metadata": {},
   "outputs": [],
   "source": [
    "def dbscan_gpu(feature, max_neighbor_dist):\n",
    "    \"\"\"\n",
    "    :param feature: of shape num_samples x num_features\n",
    "    :param max_neighbor_dist: The maximum distance between two samples for one to be considered as in the neighborhood of the other\n",
    "    :return:\n",
    "    \"\"\"\n",
    "    from cupy import asnumpy\n",
    "    from cuml.cluster import DBSCAN\n",
    "    db = DBSCAN(eps=max_neighbor_dist, min_samples=1).fit(feature)\n",
    "    return asnumpy(db.labels_.values)\n",
    "\n",
    "\n",
    "def _group_embedding_by_sku(embedding):\n",
    "    groups = defaultdict(lambda: defaultdict(list))\n",
    "    for i, f in zip(embedding[\"indices\"], embedding[\"features\"]):\n",
    "        sku_name = str(Path(i).parent)\n",
    "        groups[sku_name][\"indices\"].append(i)\n",
    "        groups[sku_name][\"features\"].append(f)\n",
    "    for sku_name in groups:\n",
    "        groups[sku_name][\"features\"] = np.stack(groups[sku_name][\"features\"])\n",
    "    return groups\n",
    "\n",
    "\n",
    "def _read_embedding(path):\n",
    "    embedding = torch.load(path)\n",
    "    return {\"indices\": embedding[\"indices\"], \"features\": embedding[\"features\"].numpy()}\n",
    "\n",
    "\n",
    "def euc_dist(x, y):\n",
    "    return np.sqrt(np.square(x - y).sum())"
   ]
  },
  {
   "cell_type": "code",
   "execution_count": 3,
   "metadata": {},
   "outputs": [],
   "source": [
    "ebd = _read_embedding(\"/data2/datasets/clobotics/ccth/embeddings/versions/train20200129_val20200117_test20191122/val_20200117_flip.pth\")"
   ]
  },
  {
   "cell_type": "code",
   "execution_count": 4,
   "metadata": {},
   "outputs": [],
   "source": [
    "groups = _group_embedding_by_sku(ebd)"
   ]
  },
  {
   "cell_type": "code",
   "execution_count": 35,
   "metadata": {},
   "outputs": [
    {
     "name": "stdout",
     "output_type": "stream",
     "text": [
      "2814 -> 1185\n",
      "['1037551#RB#620ML#Leo#Lager#Beer/0044f3e7063ef5a7354faa210022b52e_26_1037551.jpg'\n",
      " '1037551#RB#620ML#Leo#Lager#Beer/0044f3e7063ef5a7354faa210022b52e_27_1037551.jpg'\n",
      " '1037551#RB#620ML#Leo#Lager#Beer/006f7f53812056aee34db8c28479c127_3_1037551.jpg'\n",
      " '1037551#RB#620ML#Leo#Lager#Beer/006f7f53812056aee34db8c28479c127_4_1037551.jpg']\n"
     ]
    }
   ],
   "source": [
    "img_root_dir = Path(\"/data2/datasets/clobotics/ccth/images/cropped/versions/train20200129_val20200117_test20191122/val\")\n",
    "save_dir = Path(\"/tmp/clust-exp/1037551\")\n",
    "sku = \"1037551#RB#620ML#Leo#Lager#Beer\"\n",
    "max_neighbor_dist = 7.0\n",
    "indices = np.array(groups[sku][\"indices\"])\n",
    "features = groups[sku][\"features\"]\n",
    "labels = dbscan_gpu(features, max_neighbor_dist=max_neighbor_dist)\n",
    "print(f\"{len(indices)} -> {labels.max()}\")\n",
    "print(indices[:4])"
   ]
  },
  {
   "cell_type": "code",
   "execution_count": 36,
   "metadata": {},
   "outputs": [],
   "source": [
    "for clust_id in range(labels.max()):\n",
    "    for ind in indices[labels == clust_id]:\n",
    "        fn = ind.split(\"/\")[-1]\n",
    "        _save_path = save_dir / str(clust_id) / fn\n",
    "        _save_path.parent.mkdir(parents=True, exist_ok=True)\n",
    "        shutil.copy(img_root_dir / ind, _save_path)"
   ]
  },
  {
   "cell_type": "code",
   "execution_count": 8,
   "metadata": {},
   "outputs": [
    {
     "data": {
      "text/plain": [
       "PosixPath('/tmp/clust-exp/1037551/303/ffd404ded63ff376f89d5597e153d3bf_0_1037551.jpg')"
      ]
     },
     "execution_count": 8,
     "metadata": {},
     "output_type": "execute_result"
    }
   ],
   "source": [
    "_save_path"
   ]
  },
  {
   "cell_type": "markdown",
   "metadata": {},
   "source": [
    "#### deep dive"
   ]
  },
  {
   "cell_type": "code",
   "execution_count": 25,
   "metadata": {},
   "outputs": [
    {
     "name": "stdout",
     "output_type": "stream",
     "text": [
      "[144] [107]\n"
     ]
    },
    {
     "data": {
      "text/plain": [
       "11.278919"
      ]
     },
     "execution_count": 25,
     "metadata": {},
     "output_type": "execute_result"
    }
   ],
   "source": [
    "# ia = [i for i, p in enumerate(indices) if \"f20ea80bffeb43f0c7eef72fe5029f20_3_1037551\" in p]\n",
    "ia = [i for i, p in enumerate(indices) if r\"0df03b20b7b29009abb414ed9b18c4dc_10_1037551\" in p]  # 2\n",
    "ib = [i for i, p in enumerate(indices) if r\"0aa589d6695378737a7db00a4f11b7f0_4_1037551\" in p]  # 2\n",
    "print(ia, ib)\n",
    "euc_dist(features[ia], features[ib])"
   ]
  },
  {
   "cell_type": "code",
   "execution_count": null,
   "metadata": {},
   "outputs": [],
   "source": []
  }
 ],
 "metadata": {
  "kernelspec": {
   "display_name": "Python 3",
   "language": "python",
   "name": "python3"
  },
  "language_info": {
   "codemirror_mode": {
    "name": "ipython",
    "version": 3
   },
   "file_extension": ".py",
   "mimetype": "text/x-python",
   "name": "python",
   "nbconvert_exporter": "python",
   "pygments_lexer": "ipython3",
   "version": "3.7.6"
  }
 },
 "nbformat": 4,
 "nbformat_minor": 2
}
