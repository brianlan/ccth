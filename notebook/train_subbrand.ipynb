{
 "cells": [
  {
   "cell_type": "code",
   "execution_count": 1,
   "metadata": {},
   "outputs": [
    {
     "name": "stdout",
     "output_type": "stream",
     "text": [
      "Loaded pretrained weights for efficientnet-b5\n"
     ]
    }
   ],
   "source": [
    "from math import ceil\n",
    "from pathlib import Path\n",
    "import pandas as pd\n",
    "from fastai.vision import *\n",
    "from efficientnet_pytorch import EfficientNet\n",
    "\n",
    "\n",
    "def read_train_val_indices(train_indices_path, val_indices_path, image_root_dir=None):\n",
    "    train_df = pd.read_csv(train_indices_path, header=None, sep=\" \", names=[\"name\", \"label\"])\n",
    "    val_df = pd.read_csv(val_indices_path, header=None, sep=\" \", names=[\"name\", \"label\"])\n",
    "    train_df['is_valid'] = False\n",
    "    val_df['is_valid'] = True\n",
    "    trainval_df = pd.concat([train_df, val_df])\n",
    "    if image_root_dir is not None:\n",
    "        trainval_df.loc[:, \"name\"] = trainval_df.name.apply(lambda x: Path(x).relative_to(image_root_dir))\n",
    "    return trainval_df\n",
    "\n",
    "\n",
    "image_root_dir = Path(\"/data2/datasets/clobotics/ccth/images/cropped/versions/train20200129_val20200117_test20191122\")\n",
    "train_indices = Path(\"/data2/datasets/clobotics/ccth/indices/versions/train20200129_val20200117_test20191122/subbrand-classification/train.txt\")\n",
    "val_indices = Path(\"/data2/datasets/clobotics/ccth/indices/versions/train20200129_val20200117_test20191122/subbrand-classification/val.txt\")\n",
    "n_max_epochs = 10\n",
    "batch_size = 24\n",
    "max_lr = 9e-4\n",
    "tfms = get_transforms(\n",
    "    do_flip=True,  # default True\n",
    "    flip_vert=False,  # default False\n",
    "    max_rotate=10.0,  # default 10.0\n",
    "    max_zoom=1.1,  # default 1.1\n",
    "    max_lighting=0.2,  # default 0.2\n",
    "    max_warp=0.2,  # default 0.2\n",
    "    p_affine=0.75,  # default 0.75\n",
    "    p_lighting=0.75,  # default 0.75\n",
    ")\n",
    "\n",
    "dataset = read_train_val_indices(train_indices, val_indices, image_root_dir=image_root_dir)\n",
    "\n",
    "data_bunch = ImageList \\\n",
    "    .from_df(dataset, image_root_dir) \\\n",
    "    .split_from_df() \\\n",
    "    .label_from_df() \\\n",
    "    .transform(tfms, size=256, resize_method=ResizeMethod.PAD, padding_mode='zeros') \\\n",
    "    .databunch(bs=batch_size, num_workers=4) \\\n",
    "    .normalize(imagenet_stats)\n",
    "\n",
    "model = EfficientNet.from_pretrained('efficientnet-b5', num_classes=197)\n",
    "learn = Learner(data_bunch, model, metrics=accuracy, path=\"/home/rlan/deploy/ccth/checkpoints/subbrand-init\")"
   ]
  },
  {
   "cell_type": "code",
   "execution_count": 2,
   "metadata": {},
   "outputs": [
    {
     "data": {
      "text/html": [
       "\n",
       "    <div>\n",
       "        <style>\n",
       "            /* Turns off some styling */\n",
       "            progress {\n",
       "                /* gets rid of default border in Firefox and Opera. */\n",
       "                border: none;\n",
       "                /* Needs to be in here for Safari polyfill so background images work as expected. */\n",
       "                background-size: auto;\n",
       "            }\n",
       "            .progress-bar-interrupted, .progress-bar-interrupted::-webkit-progress-bar {\n",
       "                background: #F44336;\n",
       "            }\n",
       "        </style>\n",
       "      <progress value='0' class='' max='1', style='width:300px; height:20px; vertical-align: middle;'></progress>\n",
       "      0.00% [0/1 00:00<00:00]\n",
       "    </div>\n",
       "    \n",
       "<table border=\"1\" class=\"dataframe\">\n",
       "  <thead>\n",
       "    <tr style=\"text-align: left;\">\n",
       "      <th>epoch</th>\n",
       "      <th>train_loss</th>\n",
       "      <th>valid_loss</th>\n",
       "      <th>accuracy</th>\n",
       "      <th>time</th>\n",
       "    </tr>\n",
       "  </thead>\n",
       "  <tbody>\n",
       "  </tbody>\n",
       "</table><p>\n",
       "\n",
       "    <div>\n",
       "        <style>\n",
       "            /* Turns off some styling */\n",
       "            progress {\n",
       "                /* gets rid of default border in Firefox and Opera. */\n",
       "                border: none;\n",
       "                /* Needs to be in here for Safari polyfill so background images work as expected. */\n",
       "                background-size: auto;\n",
       "            }\n",
       "            .progress-bar-interrupted, .progress-bar-interrupted::-webkit-progress-bar {\n",
       "                background: #F44336;\n",
       "            }\n",
       "        </style>\n",
       "      <progress value='91' class='' max='62687', style='width:300px; height:20px; vertical-align: middle;'></progress>\n",
       "      0.15% [91/62687 00:52<9:56:53 16.3042]\n",
       "    </div>\n",
       "    "
      ],
      "text/plain": [
       "<IPython.core.display.HTML object>"
      ]
     },
     "metadata": {},
     "output_type": "display_data"
    },
    {
     "name": "stdout",
     "output_type": "stream",
     "text": [
      "LR Finder is complete, type {learner_name}.recorder.plot() to see the graph.\n",
      "Min numerical gradient: 3.02E-03\n",
      "Min loss divided by 10: 4.79E-03\n"
     ]
    },
    {
     "data": {
      "image/png": "[encoded data removed]",
      "text/plain": [
       "<Figure size 432x288 with 1 Axes>"
      ]
     },
     "metadata": {
      "needs_background": "light"
     },
     "output_type": "display_data"
    }
   ],
   "source": [
    "learn.lr_find()\n",
    "learn.recorder.plot(suggestion=True)"
   ]
  },
  {
   "cell_type": "code",
   "execution_count": 3,
   "metadata": {},
   "outputs": [
    {
     "data": {
      "text/plain": [
       "0.0030199517204020187"
      ]
     },
     "execution_count": 3,
     "metadata": {},
     "output_type": "execute_result"
    }
   ],
   "source": [
    "learn.recorder.min_grad_lr"
   ]
  },
  {
   "cell_type": "code",
   "execution_count": null,
   "metadata": {},
   "outputs": [],
   "source": []
  }
 ],
 "metadata": {
  "kernelspec": {
   "display_name": "Python 3",
   "language": "python",
   "name": "python3"
  },
  "language_info": {
   "codemirror_mode": {
    "name": "ipython",
    "version": 3
   },
   "file_extension": ".py",
   "mimetype": "text/x-python",
   "name": "python",
   "nbconvert_exporter": "python",
   "pygments_lexer": "ipython3",
   "version": "3.7.6"
  }
 },
 "nbformat": 4,
 "nbformat_minor": 4
}
